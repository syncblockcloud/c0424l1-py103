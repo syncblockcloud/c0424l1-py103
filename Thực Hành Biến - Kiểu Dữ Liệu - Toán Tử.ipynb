{
 "cells": [
  {
   "cell_type": "markdown",
   "id": "6d09d4d0-7b90-4d4f-8ee8-ab89b6879649",
   "metadata": {},
   "source": [
    "## Bài 1\n",
    "Viết chương trình nhập vào 2 số nguyên `num1` và `num2`. In ra tích của 2 số nguyên đó."
   ]
  },
  {
   "cell_type": "code",
   "execution_count": 8,
   "id": "1b01f94b-42de-4445-806c-ce3dc2d77fc3",
   "metadata": {},
   "outputs": [
    {
     "name": "stdin",
     "output_type": "stream",
     "text": [
      "Please  enter num 1:  5\n",
      "Please  enter num 2:  10\n"
     ]
    },
    {
     "name": "stdout",
     "output_type": "stream",
     "text": [
      "5 * 10 = 50\n"
     ]
    }
   ],
   "source": [
    "num1 = int(input(\"Please  enter num 1: \"))\n",
    "num2 = int(input(\"Please  enter num 2: \"))\n",
    "\n",
    "result = num1 * num2\n",
    "\n",
    "print(f\"{num1} * {num2} = {result}\")"
   ]
  },
  {
   "cell_type": "markdown",
   "id": "ce1c0f43-aadc-4fa1-ba20-3fc52c4b2a5e",
   "metadata": {},
   "source": [
    "## Bài 2 \n",
    "Nhập vào ba biến `diem_toan`, `diem_ly`, `diem_hoa` và in ra điểm trung bình của ba môn học trên."
   ]
  },
  {
   "cell_type": "code",
   "execution_count": 14,
   "id": "94053396-d9ec-42f0-a7c0-16cebea35972",
   "metadata": {},
   "outputs": [
    {
     "name": "stdin",
     "output_type": "stream",
     "text": [
      "nhap vao diem toan:  5\n",
      "nhap vao diem ly:  10\n",
      "nhap vao diem hoa:  15\n"
     ]
    },
    {
     "name": "stdout",
     "output_type": "stream",
     "text": [
      "(5 + 10 + 15) /3= 10.0\n"
     ]
    }
   ],
   "source": [
    "diem_toan = int(input(\"nhap vao diem toan: \"))\n",
    "diem_ly = int(input(\"nhap vao diem ly: \"))\n",
    "diem_hoa = int(input(\"nhap vao diem hoa: \"))\n",
    "\n",
    "diemtrungbinh = ((diem_toan + diem_ly + diem_hoa) /3)\n",
    "\n",
    "print(f\"({diem_toan} + {diem_ly} + {diem_hoa}) /3= {diemtrungbinh}\")"
   ]
  },
  {
   "cell_type": "markdown",
   "id": "bea04a03-e628-4b2e-a971-b8fb59c58d52",
   "metadata": {},
   "source": [
    "## Bài 3\n",
    "Nhập vào vận tốc của đoàn tàu theo đơn vị km/h.\n",
    "\n",
    "a. Hỏi trung bình mỗi phút đoàn tàu đi được bao nhiêu mét?\n",
    "\n",
    "b. Sau 1 giờ 12 phút đoàn tàu đi được bao nhiêu km?"
   ]
  },
  {
   "cell_type": "code",
   "execution_count": 23,
   "id": "60f691ce-4d9a-4b13-ab66-e446b9168500",
   "metadata": {},
   "outputs": [
    {
     "name": "stdin",
     "output_type": "stream",
     "text": [
      "nhap vao van toc doan tau km/h:  33\n"
     ]
    },
    {
     "name": "stdout",
     "output_type": "stream",
     "text": [
      "Quang duong tau di trong mot phut: 550.0 m\n",
      "Quang duong tau di duoc sau 1h12m = 39.6 km\n"
     ]
    }
   ],
   "source": [
    "v_kmph = int(input(\"nhap vao van toc doan tau km/h: \"))\n",
    "\n",
    "# a\n",
    "v_mpm = v_kmph * 1000 / 60\n",
    "print(f\"Quang duong tau di trong mot phut: {v_mpm} m\")\n",
    "\n",
    "# b\n",
    "s_72_min = v_kmph / 60 * 72\n",
    "print(f\"Quang duong tau di duoc sau 1h12m = {s_72_min} km\")\n"
   ]
  },
  {
   "cell_type": "code",
   "execution_count": null,
   "id": "8fbe490a-e48e-482b-a1d2-bcdbdb62fda6",
   "metadata": {},
   "outputs": [],
   "source": []
  }
 ],
 "metadata": {
  "kernelspec": {
   "display_name": "Python 3 (ipykernel)",
   "language": "python",
   "name": "python3"
  },
  "language_info": {
   "codemirror_mode": {
    "name": "ipython",
    "version": 3
   },
   "file_extension": ".py",
   "mimetype": "text/x-python",
   "name": "python",
   "nbconvert_exporter": "python",
   "pygments_lexer": "ipython3",
   "version": "3.12.3"
  }
 },
 "nbformat": 4,
 "nbformat_minor": 5
}
